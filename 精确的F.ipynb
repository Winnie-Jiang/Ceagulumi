{
 "cells": [
  {
   "cell_type": "code",
   "execution_count": 1,
   "id": "b8e20eb2-82e0-4989-b3dc-d42e47ad00bd",
   "metadata": {},
   "outputs": [
    {
     "name": "stdout",
     "output_type": "stream",
     "text": [
      "0.5419012222222223\n",
      "0.618848828125\n"
     ]
    }
   ],
   "source": [
    "import pandas as pd\n",
    "\n",
    "# 读取Excel文件\n",
    "input_excel_path = '1701表现值.xlsx'\n",
    "data = pd.read_excel(input_excel_path)\n",
    "\n",
    "# 计算F1列的均值\n",
    "F1_mean = data['F1'].mean()\n",
    "print(F1_mean)\n",
    "F4_mean = data['F4'].mean()\n",
    "print(F4_mean)"
   ]
  },
  {
   "cell_type": "code",
   "execution_count": 2,
   "id": "e8ba467c-a248-4871-afc6-9e866010d7c2",
   "metadata": {},
   "outputs": [
    {
     "data": {
      "text/html": [
       "<div>\n",
       "<style scoped>\n",
       "    .dataframe tbody tr th:only-of-type {\n",
       "        vertical-align: middle;\n",
       "    }\n",
       "\n",
       "    .dataframe tbody tr th {\n",
       "        vertical-align: top;\n",
       "    }\n",
       "\n",
       "    .dataframe thead th {\n",
       "        text-align: right;\n",
       "    }\n",
       "</style>\n",
       "<table border=\"1\" class=\"dataframe\">\n",
       "  <thead>\n",
       "    <tr style=\"text-align: right;\">\n",
       "      <th></th>\n",
       "      <th>F1</th>\n",
       "      <th>F2</th>\n",
       "      <th>F3</th>\n",
       "      <th>F4</th>\n",
       "      <th>F5</th>\n",
       "      <th>F</th>\n",
       "    </tr>\n",
       "  </thead>\n",
       "  <tbody>\n",
       "    <tr>\n",
       "      <th>0</th>\n",
       "      <td>0.00000</td>\n",
       "      <td>1.04385</td>\n",
       "      <td>0.000000</td>\n",
       "      <td>0.532070</td>\n",
       "      <td>0.00000</td>\n",
       "      <td>0.00000</td>\n",
       "    </tr>\n",
       "    <tr>\n",
       "      <th>1</th>\n",
       "      <td>0.00000</td>\n",
       "      <td>0.55745</td>\n",
       "      <td>0.640215</td>\n",
       "      <td>1.156105</td>\n",
       "      <td>0.74648</td>\n",
       "      <td>0.00000</td>\n",
       "    </tr>\n",
       "    <tr>\n",
       "      <th>2</th>\n",
       "      <td>0.54545</td>\n",
       "      <td>1.04385</td>\n",
       "      <td>0.000000</td>\n",
       "      <td>0.532070</td>\n",
       "      <td>0.61978</td>\n",
       "      <td>0.54545</td>\n",
       "    </tr>\n",
       "    <tr>\n",
       "      <th>3</th>\n",
       "      <td>0.00000</td>\n",
       "      <td>1.04385</td>\n",
       "      <td>0.584855</td>\n",
       "      <td>0.532070</td>\n",
       "      <td>1.19013</td>\n",
       "      <td>0.00000</td>\n",
       "    </tr>\n",
       "    <tr>\n",
       "      <th>4</th>\n",
       "      <td>0.00000</td>\n",
       "      <td>0.55745</td>\n",
       "      <td>0.444835</td>\n",
       "      <td>1.010205</td>\n",
       "      <td>0.61978</td>\n",
       "      <td>0.00000</td>\n",
       "    </tr>\n",
       "  </tbody>\n",
       "</table>\n",
       "</div>"
      ],
      "text/plain": [
       "        F1       F2        F3        F4       F5        F\n",
       "0  0.00000  1.04385  0.000000  0.532070  0.00000  0.00000\n",
       "1  0.00000  0.55745  0.640215  1.156105  0.74648  0.00000\n",
       "2  0.54545  1.04385  0.000000  0.532070  0.61978  0.54545\n",
       "3  0.00000  1.04385  0.584855  0.532070  1.19013  0.00000\n",
       "4  0.00000  0.55745  0.444835  1.010205  0.61978  0.00000"
      ]
     },
     "execution_count": 2,
     "metadata": {},
     "output_type": "execute_result"
    }
   ],
   "source": [
    "data.head()"
   ]
  },
  {
   "cell_type": "code",
   "execution_count": 3,
   "id": "b86e8966-99ed-4114-b487-39d4db2dad29",
   "metadata": {},
   "outputs": [
    {
     "name": "stdout",
     "output_type": "stream",
     "text": [
      "<class 'pandas.core.frame.DataFrame'>\n",
      "RangeIndex: 334 entries, 0 to 333\n",
      "Data columns (total 6 columns):\n",
      " #   Column  Non-Null Count  Dtype  \n",
      "---  ------  --------------  -----  \n",
      " 0   F1      45 non-null     float64\n",
      " 1   F2      94 non-null     float64\n",
      " 2   F3      70 non-null     float64\n",
      " 3   F4      64 non-null     float64\n",
      " 4   F5      61 non-null     float64\n",
      " 5   F       334 non-null    float64\n",
      "dtypes: float64(6)\n",
      "memory usage: 15.8 KB\n"
     ]
    }
   ],
   "source": [
    "data.info()"
   ]
  },
  {
   "cell_type": "code",
   "execution_count": 4,
   "id": "def8d6a4-00da-4910-94c7-e3fd763d9975",
   "metadata": {},
   "outputs": [
    {
     "data": {
      "text/html": [
       "<div>\n",
       "<style scoped>\n",
       "    .dataframe tbody tr th:only-of-type {\n",
       "        vertical-align: middle;\n",
       "    }\n",
       "\n",
       "    .dataframe tbody tr th {\n",
       "        vertical-align: top;\n",
       "    }\n",
       "\n",
       "    .dataframe thead th {\n",
       "        text-align: right;\n",
       "    }\n",
       "</style>\n",
       "<table border=\"1\" class=\"dataframe\">\n",
       "  <thead>\n",
       "    <tr style=\"text-align: right;\">\n",
       "      <th></th>\n",
       "      <th>F1</th>\n",
       "      <th>F2</th>\n",
       "      <th>F3</th>\n",
       "      <th>F4</th>\n",
       "      <th>F5</th>\n",
       "      <th>F</th>\n",
       "    </tr>\n",
       "  </thead>\n",
       "  <tbody>\n",
       "    <tr>\n",
       "      <th>0</th>\n",
       "      <td>0.00000</td>\n",
       "      <td>0.817616</td>\n",
       "      <td>0.000000</td>\n",
       "      <td>0.532070</td>\n",
       "      <td>0.00000</td>\n",
       "      <td>0.00000</td>\n",
       "    </tr>\n",
       "    <tr>\n",
       "      <th>1</th>\n",
       "      <td>0.00000</td>\n",
       "      <td>0.519086</td>\n",
       "      <td>0.640215</td>\n",
       "      <td>1.156105</td>\n",
       "      <td>0.74648</td>\n",
       "      <td>0.00000</td>\n",
       "    </tr>\n",
       "    <tr>\n",
       "      <th>2</th>\n",
       "      <td>0.54545</td>\n",
       "      <td>0.378170</td>\n",
       "      <td>0.000000</td>\n",
       "      <td>0.532070</td>\n",
       "      <td>0.61978</td>\n",
       "      <td>0.54545</td>\n",
       "    </tr>\n",
       "    <tr>\n",
       "      <th>3</th>\n",
       "      <td>0.00000</td>\n",
       "      <td>0.310647</td>\n",
       "      <td>0.584855</td>\n",
       "      <td>0.532070</td>\n",
       "      <td>1.19013</td>\n",
       "      <td>0.00000</td>\n",
       "    </tr>\n",
       "    <tr>\n",
       "      <th>4</th>\n",
       "      <td>0.00000</td>\n",
       "      <td>0.275670</td>\n",
       "      <td>0.444835</td>\n",
       "      <td>1.010205</td>\n",
       "      <td>0.61978</td>\n",
       "      <td>0.00000</td>\n",
       "    </tr>\n",
       "  </tbody>\n",
       "</table>\n",
       "</div>"
      ],
      "text/plain": [
       "        F1        F2        F3        F4       F5        F\n",
       "0  0.00000  0.817616  0.000000  0.532070  0.00000  0.00000\n",
       "1  0.00000  0.519086  0.640215  1.156105  0.74648  0.00000\n",
       "2  0.54545  0.378170  0.000000  0.532070  0.61978  0.54545\n",
       "3  0.00000  0.310647  0.584855  0.532070  1.19013  0.00000\n",
       "4  0.00000  0.275670  0.444835  1.010205  0.61978  0.00000"
      ]
     },
     "execution_count": 4,
     "metadata": {},
     "output_type": "execute_result"
    }
   ],
   "source": [
    "# 处理F2\n",
    "# 更新F2列的值为F1列均值加上F2列前面元素的均值\n",
    "F1=F1_mean\n",
    "for i in range(0, 94):\n",
    "    if i==0:\n",
    "        F2 = data.at[i, 'F2']\n",
    "        data.at[i, 'F2'] = (F1*F1)/(F1+F2)*F1 + (F2*F2)/(F1+F2)*F2\n",
    "    else:\n",
    "        F2 = data['F2'][:i].mean()# 求i之前的均值\n",
    "        data.at[i, 'F2'] = (F1*F1)/(F1+F2)*F1 + (F2*F2)/(F1+F2)*F2\n",
    "# Printing the result\n",
    "data.head()"
   ]
  },
  {
   "cell_type": "code",
   "execution_count": 5,
   "id": "4c18bc1d-cd75-457b-9b03-c1fdcb98d853",
   "metadata": {},
   "outputs": [
    {
     "data": {
      "text/plain": [
       "0.23481443245523137"
      ]
     },
     "execution_count": 5,
     "metadata": {},
     "output_type": "execute_result"
    }
   ],
   "source": [
    "data['F2'].mean()"
   ]
  },
  {
   "cell_type": "code",
   "execution_count": 6,
   "id": "aa262106-bc81-4baf-a725-ed32e1307583",
   "metadata": {},
   "outputs": [
    {
     "name": "stdout",
     "output_type": "stream",
     "text": [
      "0.7767156546774536\n"
     ]
    },
    {
     "data": {
      "text/html": [
       "<div>\n",
       "<style scoped>\n",
       "    .dataframe tbody tr th:only-of-type {\n",
       "        vertical-align: middle;\n",
       "    }\n",
       "\n",
       "    .dataframe tbody tr th {\n",
       "        vertical-align: top;\n",
       "    }\n",
       "\n",
       "    .dataframe thead th {\n",
       "        text-align: right;\n",
       "    }\n",
       "</style>\n",
       "<table border=\"1\" class=\"dataframe\">\n",
       "  <thead>\n",
       "    <tr style=\"text-align: right;\">\n",
       "      <th></th>\n",
       "      <th>F1</th>\n",
       "      <th>F2</th>\n",
       "      <th>F3</th>\n",
       "      <th>F4</th>\n",
       "      <th>F5</th>\n",
       "      <th>F</th>\n",
       "    </tr>\n",
       "  </thead>\n",
       "  <tbody>\n",
       "    <tr>\n",
       "      <th>0</th>\n",
       "      <td>0.00000</td>\n",
       "      <td>0.817616</td>\n",
       "      <td>0.603287</td>\n",
       "      <td>0.532070</td>\n",
       "      <td>0.00000</td>\n",
       "      <td>0.00000</td>\n",
       "    </tr>\n",
       "    <tr>\n",
       "      <th>1</th>\n",
       "      <td>0.00000</td>\n",
       "      <td>0.519086</td>\n",
       "      <td>0.498660</td>\n",
       "      <td>1.156105</td>\n",
       "      <td>0.74648</td>\n",
       "      <td>0.00000</td>\n",
       "    </tr>\n",
       "    <tr>\n",
       "      <th>2</th>\n",
       "      <td>0.54545</td>\n",
       "      <td>0.378170</td>\n",
       "      <td>0.478909</td>\n",
       "      <td>0.532070</td>\n",
       "      <td>0.61978</td>\n",
       "      <td>0.54545</td>\n",
       "    </tr>\n",
       "    <tr>\n",
       "      <th>3</th>\n",
       "      <td>0.00000</td>\n",
       "      <td>0.310647</td>\n",
       "      <td>0.471674</td>\n",
       "      <td>0.532070</td>\n",
       "      <td>1.19013</td>\n",
       "      <td>0.00000</td>\n",
       "    </tr>\n",
       "    <tr>\n",
       "      <th>4</th>\n",
       "      <td>0.00000</td>\n",
       "      <td>0.275670</td>\n",
       "      <td>0.468034</td>\n",
       "      <td>1.010205</td>\n",
       "      <td>0.61978</td>\n",
       "      <td>0.00000</td>\n",
       "    </tr>\n",
       "  </tbody>\n",
       "</table>\n",
       "</div>"
      ],
      "text/plain": [
       "        F1        F2        F3        F4       F5        F\n",
       "0  0.00000  0.817616  0.603287  0.532070  0.00000  0.00000\n",
       "1  0.00000  0.519086  0.498660  1.156105  0.74648  0.00000\n",
       "2  0.54545  0.378170  0.478909  0.532070  0.61978  0.54545\n",
       "3  0.00000  0.310647  0.471674  0.532070  1.19013  0.00000\n",
       "4  0.00000  0.275670  0.468034  1.010205  0.61978  0.00000"
      ]
     },
     "execution_count": 6,
     "metadata": {},
     "output_type": "execute_result"
    }
   ],
   "source": [
    "# 处理F3\n",
    "F2=F1_mean+data['F2'].mean()\n",
    "print(F2)\n",
    "for i in range(0, 70):\n",
    "    if i==0:\n",
    "        F3 = data.at[i, 'F3']\n",
    "        data.at[i, 'F3'] = (F2*F2)/(F2+F3)*F2 + (F3*F3)/(F2+F3)*F3\n",
    "    else:\n",
    "        F3 = data['F3'][:i].mean()\n",
    "        data.at[i, 'F3'] = (F2*F2)/(F2+F3)*F2 + (F3*F3)/(F2+F3)*F3\n",
    "# Printing the result\n",
    "data.head()"
   ]
  },
  {
   "cell_type": "code",
   "execution_count": 7,
   "id": "0052ce25-edf8-4525-ab12-bd7b8837909d",
   "metadata": {},
   "outputs": [
    {
     "data": {
      "text/plain": [
       "0.7767156546774536"
      ]
     },
     "execution_count": 7,
     "metadata": {},
     "output_type": "execute_result"
    }
   ],
   "source": [
    "F2"
   ]
  },
  {
   "cell_type": "code",
   "execution_count": 8,
   "id": "28ff6c9b-bf0c-473a-ade9-a226dfefa924",
   "metadata": {},
   "outputs": [
    {
     "name": "stdout",
     "output_type": "stream",
     "text": [
      "1.2390674006170603\n"
     ]
    }
   ],
   "source": [
    "# 处理F4\n",
    "F3=F2+data['F3'].mean()\n",
    "print(F3)"
   ]
  },
  {
   "cell_type": "code",
   "execution_count": 9,
   "id": "28044a1c-b7bb-4622-acad-c1c19ba26c29",
   "metadata": {},
   "outputs": [
    {
     "name": "stdout",
     "output_type": "stream",
     "text": [
      "1.7711374006170604   F3= 1.2390674006170603\n",
      "2.3981833169426596   F3= 1.2390674006170603   F4= 1.1591159163255993  i= 1\n",
      "2.539932851427775   F3= 1.2390674006170603   F4= 1.3008654508107147  i= 2\n",
      "2.6448706917229736   F3= 1.2390674006170603   F4= 1.4058032911059133  i= 3\n",
      "2.735841340663151   F3= 1.2390674006170603   F4= 1.4967739400460909  i= 4\n",
      "2.8206898437876835   F3= 1.2390674006170603   F4= 1.5816224431706232  i= 5\n",
      "2.90326623102523   F3= 1.2390674006170603   F4= 1.6641988304081696  i= 6\n",
      "2.985922291181211   F3= 1.2390674006170603   F4= 1.7468548905641506  i= 7\n",
      "3.070355315292353   F3= 1.2390674006170603   F4= 1.8312879146752925  i= 8\n",
      "3.1579693573828256   F3= 1.2390674006170603   F4= 1.9189019567657652  i= 9\n",
      "3.2500615500405146   F3= 1.2390674006170603   F4= 2.0109941494234542  i= 10\n",
      "3.3479373727206587   F3= 1.2390674006170603   F4= 2.1088699721035984  i= 11\n",
      "3.4529972540402234   F3= 1.2390674006170603   F4= 2.213929853423163  i= 12\n",
      "3.5668153507400326   F3= 1.2390674006170603   F4= 2.3277479501229723  i= 13\n",
      "3.6912234929257526   F3= 1.2390674006170603   F4= 2.4521560923086922  i= 14\n",
      "3.828411143379462   F3= 1.2390674006170603   F4= 2.5893437427624018  i= 15\n",
      "3.981053260757191   F3= 1.2390674006170603   F4= 2.741985860140131  i= 16\n",
      "4.152481691821169   F3= 1.2390674006170603   F4= 2.913414291204109  i= 17\n",
      "4.346922796906574   F3= 1.2390674006170603   F4= 3.107855396289514  i= 18\n",
      "4.569836243425211   F3= 1.2390674006170603   F4= 3.330768842808151  i= 19\n",
      "4.828410902053747   F3= 1.2390674006170603   F4= 3.5893435014366872  i= 20\n",
      "5.1323105578106105   F3= 1.2390674006170603   F4= 3.8932431571935497  i= 21\n",
      "5.4948285790996465   F3= 1.2390674006170603   F4= 4.255761178482586  i= 22\n",
      "5.93473532309962   F3= 1.2390674006170603   F4= 4.69566792248256  i= 23\n",
      "6.47934650193919   F3= 1.2390674006170603   F4= 5.2402791013221295  i= 24\n",
      "7.169845501023996   F3= 1.2390674006170603   F4= 5.930778100406935  i= 25\n",
      "8.070999539278752   F3= 1.2390674006170603   F4= 6.831932138661691  i= 26\n",
      "9.290015399858197   F3= 1.2390674006170603   F4= 8.050947999241137  i= 27\n",
      "11.015959560593656   F3= 1.2390674006170603   F4= 9.776892159976596  i= 28\n",
      "13.61015914046716   F3= 1.2390674006170603   F4= 12.3710917398501  i= 29\n",
      "17.839475494944423   F3= 1.2390674006170603   F4= 16.600408094327364  i= 30\n",
      "25.57945627947776   F3= 1.2390674006170603   F4= 24.3403888788607  i= 31\n",
      "42.438520265116466   F3= 1.2390674006170603   F4= 41.199452864499406  i= 32\n",
      "91.12584912951708   F3= 1.2390674006170603   F4= 89.88678172890002  i= 33\n",
      "322.88779780265315   F3= 1.2390674006170603   F4= 321.6487304020361  i= 34\n",
      "3258.294879818993   F3= 1.2390674006170603   F4= 3257.0558124183763  i= 35\n",
      "297733.887463285   F3= 1.2390674006170603   F4= 297732.6483958844  i= 36\n",
      "2396083227.9116654   F3= 1.2390674006170603   F4= 2396083226.672598  i= 37\n",
      "1.5108460302178787e+17   F3= 1.2390674006170603   F4= 1.5108460302178787e+17  i= 38\n",
      "5.852963402628523e+32   F3= 1.2390674006170603   F4= 5.852963402628523e+32  i= 39\n",
      "8.564295148127214e+63   F3= 1.2390674006170603   F4= 8.564295148127214e+63  i= 40\n",
      "1.788954911810618e+126   F3= 1.2390674006170603   F4= 1.788954911810618e+126  i= 41\n",
      "7.619903991646037e+250   F3= 1.2390674006170603   F4= 7.619903991646037e+250  i= 42\n",
      "inf   F3= 1.2390674006170603   F4= inf  i= 43\n",
      "inf   F3= 1.2390674006170603   F4= inf  i= 44\n",
      "inf   F3= 1.2390674006170603   F4= inf  i= 45\n",
      "inf   F3= 1.2390674006170603   F4= inf  i= 46\n",
      "inf   F3= 1.2390674006170603   F4= inf  i= 47\n",
      "inf   F3= 1.2390674006170603   F4= inf  i= 48\n",
      "inf   F3= 1.2390674006170603   F4= inf  i= 49\n",
      "inf   F3= 1.2390674006170603   F4= inf  i= 50\n",
      "inf   F3= 1.2390674006170603   F4= inf  i= 51\n",
      "inf   F3= 1.2390674006170603   F4= inf  i= 52\n",
      "inf   F3= 1.2390674006170603   F4= inf  i= 53\n",
      "inf   F3= 1.2390674006170603   F4= inf  i= 54\n",
      "inf   F3= 1.2390674006170603   F4= inf  i= 55\n",
      "inf   F3= 1.2390674006170603   F4= inf  i= 56\n",
      "inf   F3= 1.2390674006170603   F4= inf  i= 57\n",
      "inf   F3= 1.2390674006170603   F4= inf  i= 58\n",
      "inf   F3= 1.2390674006170603   F4= inf  i= 59\n",
      "inf   F3= 1.2390674006170603   F4= inf  i= 60\n",
      "inf   F3= 1.2390674006170603   F4= inf  i= 61\n",
      "inf   F3= 1.2390674006170603   F4= inf  i= 62\n",
      "inf   F3= 1.2390674006170603   F4= inf  i= 63\n"
     ]
    },
    {
     "name": "stderr",
     "output_type": "stream",
     "text": [
      "C:\\Users\\蒋\\AppData\\Local\\Temp\\ipykernel_13552\\3340187719.py:9: RuntimeWarning: overflow encountered in scalar multiply\n",
      "  data.at[i, 'F4'] = (F3*F3)/(F3+F4)*F3 + (F4*F4)/(F3+F4)*F4\n",
      "C:\\Users\\蒋\\AppData\\Local\\Temp\\ipykernel_13552\\3340187719.py:9: RuntimeWarning: invalid value encountered in scalar divide\n",
      "  data.at[i, 'F4'] = (F3*F3)/(F3+F4)*F3 + (F4*F4)/(F3+F4)*F4\n"
     ]
    },
    {
     "data": {
      "text/html": [
       "<div>\n",
       "<style scoped>\n",
       "    .dataframe tbody tr th:only-of-type {\n",
       "        vertical-align: middle;\n",
       "    }\n",
       "\n",
       "    .dataframe tbody tr th {\n",
       "        vertical-align: top;\n",
       "    }\n",
       "\n",
       "    .dataframe thead th {\n",
       "        text-align: right;\n",
       "    }\n",
       "</style>\n",
       "<table border=\"1\" class=\"dataframe\">\n",
       "  <thead>\n",
       "    <tr style=\"text-align: right;\">\n",
       "      <th></th>\n",
       "      <th>F1</th>\n",
       "      <th>F2</th>\n",
       "      <th>F3</th>\n",
       "      <th>F4</th>\n",
       "      <th>F5</th>\n",
       "      <th>F</th>\n",
       "    </tr>\n",
       "  </thead>\n",
       "  <tbody>\n",
       "    <tr>\n",
       "      <th>0</th>\n",
       "      <td>0.00000</td>\n",
       "      <td>0.817616</td>\n",
       "      <td>0.603287</td>\n",
       "      <td>1.159116</td>\n",
       "      <td>0.00000</td>\n",
       "      <td>0.00000</td>\n",
       "    </tr>\n",
       "    <tr>\n",
       "      <th>1</th>\n",
       "      <td>0.00000</td>\n",
       "      <td>0.519086</td>\n",
       "      <td>0.498660</td>\n",
       "      <td>1.442615</td>\n",
       "      <td>0.74648</td>\n",
       "      <td>0.00000</td>\n",
       "    </tr>\n",
       "    <tr>\n",
       "      <th>2</th>\n",
       "      <td>0.54545</td>\n",
       "      <td>0.378170</td>\n",
       "      <td>0.478909</td>\n",
       "      <td>1.615679</td>\n",
       "      <td>0.61978</td>\n",
       "      <td>0.54545</td>\n",
       "    </tr>\n",
       "    <tr>\n",
       "      <th>3</th>\n",
       "      <td>0.00000</td>\n",
       "      <td>0.310647</td>\n",
       "      <td>0.471674</td>\n",
       "      <td>1.769686</td>\n",
       "      <td>1.19013</td>\n",
       "      <td>0.00000</td>\n",
       "    </tr>\n",
       "    <tr>\n",
       "      <th>4</th>\n",
       "      <td>0.00000</td>\n",
       "      <td>0.275670</td>\n",
       "      <td>0.468034</td>\n",
       "      <td>1.921016</td>\n",
       "      <td>0.61978</td>\n",
       "      <td>0.00000</td>\n",
       "    </tr>\n",
       "  </tbody>\n",
       "</table>\n",
       "</div>"
      ],
      "text/plain": [
       "        F1        F2        F3        F4       F5        F\n",
       "0  0.00000  0.817616  0.603287  1.159116  0.00000  0.00000\n",
       "1  0.00000  0.519086  0.498660  1.442615  0.74648  0.00000\n",
       "2  0.54545  0.378170  0.478909  1.615679  0.61978  0.54545\n",
       "3  0.00000  0.310647  0.471674  1.769686  1.19013  0.00000\n",
       "4  0.00000  0.275670  0.468034  1.921016  0.61978  0.00000"
      ]
     },
     "execution_count": 9,
     "metadata": {},
     "output_type": "execute_result"
    }
   ],
   "source": [
    "for i in range(0, 64):\n",
    "    if i==0:\n",
    "        F4 = data.at[i, 'F4']\n",
    "        print((F3+F4),\"  F3=\",F3)\n",
    "        data.at[i, 'F4'] = (F3*F3)/(F3+F4)*F3 + (F4*F4)/(F3+F4)*F4\n",
    "    else:\n",
    "        F4 = data['F4'][:i].mean()\n",
    "        print((F3+F4),\"  F3=\",F3,\"  F4=\",F4,\" i=\",i)\n",
    "        data.at[i, 'F4'] = (F3*F3)/(F3+F4)*F3 + (F4*F4)/(F3+F4)*F4\n",
    "# Printing the result\n",
    "data.head()"
   ]
  },
  {
   "cell_type": "code",
   "execution_count": null,
   "id": "234a4e1b-f0da-40aa-9084-3ff1522f4638",
   "metadata": {},
   "outputs": [],
   "source": []
  },
  {
   "cell_type": "code",
   "execution_count": 10,
   "id": "6fd97529-7bb6-4b58-9c22-f54bd70ed830",
   "metadata": {},
   "outputs": [],
   "source": [
    "# 处理F5\n",
    "#F4=F3+data['F4'].mean()\n",
    "#print(F4)"
   ]
  },
  {
   "cell_type": "code",
   "execution_count": 11,
   "id": "18c20182-cbf7-491a-a921-b2869e2f1b4e",
   "metadata": {},
   "outputs": [
    {
     "data": {
      "text/plain": [
       "\"for i in range(0, 61):\\n    if i==0:\\n        F5 = data.at[i, 'F5']\\n        data.at[i, 'F5'] = (F4*F4)/(F4+F5)*F4 + (F5*F5)/(F4+F5)*F5\\n    else:\\n        F4 = data['F5'][:i].mean()\\n        data.at[i, 'F5'] =  (F4*F4)/(F4+F5)*F4 + (F5*F5)/(F4+F5)*F5\\n# Printing the result\\ndata.head()\\n\""
      ]
     },
     "execution_count": 11,
     "metadata": {},
     "output_type": "execute_result"
    }
   ],
   "source": [
    "'''for i in range(0, 61):\n",
    "    if i==0:\n",
    "        F5 = data.at[i, 'F5']\n",
    "        data.at[i, 'F5'] = (F4*F4)/(F4+F5)*F4 + (F5*F5)/(F4+F5)*F5\n",
    "    else:\n",
    "        F4 = data['F5'][:i].mean()\n",
    "        data.at[i, 'F5'] =  (F4*F4)/(F4+F5)*F4 + (F5*F5)/(F4+F5)*F5\n",
    "# Printing the result\n",
    "data.head()\n",
    "'''"
   ]
  }
 ],
 "metadata": {
  "kernelspec": {
   "display_name": "Python 3 (ipykernel)",
   "language": "python",
   "name": "python3"
  },
  "language_info": {
   "codemirror_mode": {
    "name": "ipython",
    "version": 3
   },
   "file_extension": ".py",
   "mimetype": "text/x-python",
   "name": "python",
   "nbconvert_exporter": "python",
   "pygments_lexer": "ipython3",
   "version": "3.11.4"
  }
 },
 "nbformat": 4,
 "nbformat_minor": 5
}
